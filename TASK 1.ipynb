{
 "cells": [
  {
   "cell_type": "markdown",
   "id": "edc50b01",
   "metadata": {},
   "source": [
    "The Sparks Foundation Tasks"
   ]
  },
  {
   "cell_type": "markdown",
   "id": "1bd6a282",
   "metadata": {},
   "source": [
    "This repository contains the tasks that I completed while working as an intern for The Sparks Foundation.## This repository contains the tasks that I completed while working as an intern for The Sparks Foundation."
   ]
  },
  {
   "cell_type": "markdown",
   "id": "0ebb1177",
   "metadata": {},
   "source": [
    " \n",
    "Internship Category - Data Science and Business Analytics\n",
    "Internship Duration - 1 Month ( January-2023 )\n",
    "Internship Type - Work from Home"
   ]
  },
  {
   "cell_type": "code",
   "execution_count": null,
   "id": "740cbe3b",
   "metadata": {},
   "outputs": [],
   "source": []
  },
  {
   "cell_type": "code",
   "execution_count": null,
   "id": "d7478801",
   "metadata": {},
   "outputs": [],
   "source": []
  },
  {
   "cell_type": "code",
   "execution_count": null,
   "id": "e5376eaa",
   "metadata": {},
   "outputs": [],
   "source": []
  },
  {
   "cell_type": "code",
   "execution_count": null,
   "id": "997e324a",
   "metadata": {},
   "outputs": [],
   "source": []
  },
  {
   "cell_type": "code",
   "execution_count": null,
   "id": "93f1d023",
   "metadata": {},
   "outputs": [],
   "source": []
  },
  {
   "cell_type": "code",
   "execution_count": null,
   "id": "0e69f203",
   "metadata": {},
   "outputs": [],
   "source": []
  },
  {
   "cell_type": "code",
   "execution_count": null,
   "id": "565d9a67",
   "metadata": {},
   "outputs": [],
   "source": []
  }
 ],
 "metadata": {
  "kernelspec": {
   "display_name": "Python 3 (ipykernel)",
   "language": "python",
   "name": "python3"
  },
  "language_info": {
   "codemirror_mode": {
    "name": "ipython",
    "version": 3
   },
   "file_extension": ".py",
   "mimetype": "text/x-python",
   "name": "python",
   "nbconvert_exporter": "python",
   "pygments_lexer": "ipython3",
   "version": "3.9.7"
  }
 },
 "nbformat": 4,
 "nbformat_minor": 5
}
